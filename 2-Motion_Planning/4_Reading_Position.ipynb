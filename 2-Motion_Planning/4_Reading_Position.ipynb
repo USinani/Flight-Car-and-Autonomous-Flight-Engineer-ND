{
 "cells": [
  {
   "cell_type": "code",
   "execution_count": 1,
   "metadata": {},
   "outputs": [],
   "source": [
    "import numpy as np\n",
    "colliders_file = 'colliders.csv'"
   ]
  },
  {
   "cell_type": "code",
   "execution_count": 2,
   "metadata": {},
   "outputs": [
    {
     "output_type": "stream",
     "name": "stdout",
     "text": [
      "37.792480,-122.397450\n",
      "ipykernel_launcher:14: DeprecationWarning: Numeric-style type codes are deprecated and will result in an error in the future.\n"
     ]
    }
   ],
   "source": [
    "import re\n",
    "\n",
    "def read_home(filename):\n",
    "    \"\"\"\n",
    "    Reads home (lat, lon) from the first line of the `file`. \n",
    "    \"\"\"\n",
    "    with open(filename) as f:\n",
    "        first_line = f.readline()\n",
    "    match = re.match(r'^lat0 (.*), lon0 (.*)$', first_line)\n",
    "    if match:\n",
    "        lat = match.group(1)\n",
    "        lon = match.group(2)\n",
    "    print(f'{lat},{lon}')\n",
    "    return np.fromstring(f'{lat},{lon}', dtype='Float64', sep=',')\n",
    "        \n",
    "lat, lon = read_home(colliders_file)"
   ]
  },
  {
   "cell_type": "code",
   "execution_count": 3,
   "metadata": {},
   "outputs": [
    {
     "output_type": "stream",
     "name": "stdout",
     "text": [
      "lat : 37.79248, lon: -122.39745\n"
     ]
    }
   ],
   "source": [
    "print(f'lat : {lat}, lon: {lon}')"
   ]
  },
  {
   "cell_type": "code",
   "execution_count": null,
   "metadata": {},
   "outputs": [],
   "source": []
  }
 ],
 "metadata": {
  "kernelspec": {
   "display_name": "Python 3",
   "language": "python",
   "name": "python3"
  },
  "language_info": {
   "codemirror_mode": {
    "name": "ipython",
    "version": 3
   },
   "file_extension": ".py",
   "mimetype": "text/x-python",
   "name": "python",
   "nbconvert_exporter": "python",
   "pygments_lexer": "ipython3",
   "version": "3.6.3-final"
  }
 },
 "nbformat": 4,
 "nbformat_minor": 2
}